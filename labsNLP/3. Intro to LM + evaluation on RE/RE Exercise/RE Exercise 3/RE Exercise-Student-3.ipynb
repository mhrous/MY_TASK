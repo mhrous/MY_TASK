{
 "cells": [
  {
   "cell_type": "markdown",
   "metadata": {},
   "source": [
    "# Exercise\n",
    "\n",
    "Suppose you have input data (stored in a text file) giving student names and\n",
    "student birth dates in the following form:\n",
    "\n",
    "                17 Dennis Andrade    *1988-01-02\n",
    "                18 Isabel Carrera    *1992-11-04\n",
    "                19 Carlton  Creech   *1993-05-24\n",
    "                20 Philip Hayden     *1992-12-14\n",
    "                21 Jason Luna        *2001-02-08\n",
    "                22 Manuel Neri       *2001-03-30\n",
    "We want to rewrite these in a different way. \n",
    "This assumes that the last name is always followed by one or more blanks and then an '*' character. \n",
    "And the date is wirtten in the format yyyy-mm-dd.\n",
    "You should drop the initial number, write the last name first, followed by a comma,\n",
    "followed by a blank and the first name,\n",
    "follwed by his birth date in the format day/month/year with no additionl zeros\n",
    "as shown below:\n",
    "\n",
    "                Andrade, Dennis 2/1/1988\n",
    "                Carrera, Isabel 4/11/1992\n",
    "                Creech, Carlton 24/5/1993\n",
    "                Hayden, Philip 14/12/1992\n",
    "                Luna, Jason 8/2/2001\n",
    "                Neri, Manuel 30/3/2001\n",
    "Write a regular expression to do this translation and\n",
    "store it in a new text file"
   ]
  },
  {
   "cell_type": "code",
   "execution_count": 1,
   "metadata": {},
   "outputs": [],
   "source": [
    "import re"
   ]
  },
  {
   "cell_type": "code",
   "execution_count": 25,
   "metadata": {},
   "outputs": [
    {
     "name": "stdout",
     "output_type": "stream",
     "text": [
      "Andrade, Dennis 02/01/1988 \n",
      "Carrera, Isabel 04/11/1992 \n",
      "Creech, Carlton 24/05/1993 \n",
      "Hayden, Philip 14/12/1992 \n",
      "Luna, Jason 08/02/2001 \n",
      "Neri, Manuel 30/03/2001 \n"
     ]
    }
   ],
   "source": [
    "text = open(\"input.txt\",\"r\")\n",
    "text2 = open(\"output.txt\",\"w\")\n",
    "\n",
    "pattern = r\"(\\d*)\\s*(?P<first_name>\\w*)\\s*(?P<last_name>\\w*)\\s*\\*(?P<y>\\d{4})-(?P<m>\\d{2})-(?P<d>\\d{2})\" #CODE HRER: you should write your expression here\n",
    "\n",
    "lines = text.readlines()\n",
    "for line in lines:\n",
    "    m = re.search(pattern,line)\n",
    "    if m:\n",
    "        newLine =\"{last_name}, {first_name} {d}/{m}/{y} \".format(last_name=m.group(\"last_name\"),\n",
    "                                                                 first_name=m.group(\"first_name\"),\n",
    "                                                                 d=m.group(\"d\"),\n",
    "                                                                 m=m.group(\"m\"),\n",
    "                                                                 y=m.group(\"y\"))\n",
    "        print(newLine)\n",
    "#         text2.write(newLine)\n",
    "\n",
    "text.close()\n",
    "text2.close()\n"
   ]
  },
  {
   "cell_type": "code",
   "execution_count": null,
   "metadata": {},
   "outputs": [],
   "source": []
  },
  {
   "cell_type": "code",
   "execution_count": null,
   "metadata": {},
   "outputs": [],
   "source": []
  }
 ],
 "metadata": {
  "kernelspec": {
   "display_name": "Python 3",
   "language": "python",
   "name": "python3"
  },
  "language_info": {
   "codemirror_mode": {
    "name": "ipython",
    "version": 3
   },
   "file_extension": ".py",
   "mimetype": "text/x-python",
   "name": "python",
   "nbconvert_exporter": "python",
   "pygments_lexer": "ipython3",
   "version": "3.7.4"
  }
 },
 "nbformat": 4,
 "nbformat_minor": 4
}

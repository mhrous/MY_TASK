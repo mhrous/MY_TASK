{
 "cells": [
  {
   "cell_type": "code",
   "execution_count": 13,
   "metadata": {},
   "outputs": [
    {
     "name": "stdout",
     "output_type": "stream",
     "text": [
      "1161192\n",
      "a \tfreq 23195 \t prob 0.019975163452727887\n",
      "fact \tfreq 447 \t prob 0.00038494925903726515\n",
      "the \tfreq 69971 \t prob 0.06025790739171472\n",
      "unicorn \tfreq 0 \tprob 0\n",
      "is \tfreq 10109 \t prob 0.008705709305610097\n",
      "same \tfreq 686 \t prob 0.0005907722409386217\n",
      "as \tfreq 7253 \t prob 0.006246167731090121\n",
      "an \tfreq 3740 \t prob 0.0032208282523475875\n",
      "alternative \tfreq 34 \t prob 2.9280256839523524e-05\n",
      ". \tfreq 49346 \t prob 0.042495986882444936\n"
     ]
    }
   ],
   "source": [
    "import nltk\n",
    "from nltk.corpus import brown\n",
    "words = brown.words()\n",
    "fdist = nltk.FreqDist(w.lower() for w in words)\n",
    "total = len(words)\n",
    "print(total)\n",
    "for w in ['a', 'fact','the','unicorn','is','same','as','an','alternative','.']:\n",
    "    if w in fdist:\n",
    "        print(w,'\\tfreq',fdist[w],'\\t prob',fdist[w]/total)\n",
    "    else:\n",
    "        print(w,'\\tfreq',0,'\\tprob',0)\n"
   ]
  },
  {
   "cell_type": "code",
   "execution_count": 10,
   "metadata": {},
   "outputs": [
    {
     "name": "stdout",
     "output_type": "stream",
     "text": [
      "<FreqDist with 1 samples and 1 outcomes>\n"
     ]
    },
    {
     "data": {
      "text/plain": [
       "FreqDist({'question': 2, 'people': 1})"
      ]
     },
     "execution_count": 10,
     "metadata": {},
     "output_type": "execute_result"
    }
   ],
   "source": [
    "sentece = ['to', 'be', 'or', 'not', 'to', 'be', 'that', 'is', 'the', 'question',\n",
    "           '.', 'it', 'is','the', 'question', 'that', 'the', 'people', 'are', 'asking']\n",
    "bigrams = nltk.bigrams(sentece)\n",
    "s_cfd = nltk.ConditionalFreqDist(bigrams)\n",
    "print(s_cfd['or'])\n",
    "s_cfd['the']"
   ]
  },
  {
   "cell_type": "code",
   "execution_count": 11,
   "metadata": {},
   "outputs": [
    {
     "name": "stdout",
     "output_type": "stream",
     "text": [
      "question\n"
     ]
    }
   ],
   "source": [
    "print(s_cfd['the'].max())"
   ]
  },
  {
   "cell_type": "markdown",
   "metadata": {},
   "source": [
    "use words form any corpus you like\n",
    "genenrate the bigrams from this corpus\n",
    "starting from a givin word (you choose any word you want), we want to generate a text of 15 words, every word is followed by the most frequent word after it."
   ]
  },
  {
   "cell_type": "code",
   "execution_count": 27,
   "metadata": {},
   "outputs": [
    {
     "name": "stdout",
     "output_type": "stream",
     "text": [
      "<FreqDist with 1962 samples and 4206 outcomes>\n"
     ]
    },
    {
     "data": {
      "text/plain": [
       "'first'"
      ]
     },
     "execution_count": 27,
     "metadata": {},
     "output_type": "execute_result"
    }
   ],
   "source": [
    "### YOUR CODE HERE\n",
    "words = [l.lower() for l in words]\n",
    "bigrams = nltk.bigrams(words)\n",
    "s_cfd = nltk.ConditionalFreqDist(bigrams)"
   ]
  },
  {
   "cell_type": "code",
   "execution_count": null,
   "metadata": {},
   "outputs": [],
   "source": [
    "def my_fun(word,num=15):\n",
    "    for _ in range(num):\n",
    "        print(word,end=\" \")\n",
    "        word=s_cfd[word].max()"
   ]
  },
  {
   "cell_type": "code",
   "execution_count": null,
   "metadata": {},
   "outputs": [],
   "source": []
  },
  {
   "cell_type": "code",
   "execution_count": null,
   "metadata": {},
   "outputs": [],
   "source": []
  }
 ],
 "metadata": {
  "kernelspec": {
   "display_name": "Python 3",
   "language": "python",
   "name": "python3"
  },
  "language_info": {
   "codemirror_mode": {
    "name": "ipython",
    "version": 3
   },
   "file_extension": ".py",
   "mimetype": "text/x-python",
   "name": "python",
   "nbconvert_exporter": "python",
   "pygments_lexer": "ipython3",
   "version": "3.7.4"
  }
 },
 "nbformat": 4,
 "nbformat_minor": 4
}

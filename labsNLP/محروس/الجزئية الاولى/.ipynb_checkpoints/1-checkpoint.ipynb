{
 "cells": [
  {
   "cell_type": "code",
   "execution_count": 4,
   "metadata": {},
   "outputs": [
    {
     "name": "stdout",
     "output_type": "stream",
     "text": [
      "400\n"
     ]
    }
   ],
   "source": [
    "import GetOldTweets3 as got\n",
    "# سعوديات_نطلب_اسقاط_الولايه1113 \n",
    "tweetCriteria = got.manager.TweetCriteria().setQuerySearch('سعوديات_نطالب_باسقاط_الولايه7')\\\n",
    "                                           .setSince(\"2016-01-01\")\\\n",
    "                                           .setUntil(\"2019-01-01\")\\\n",
    "                                           .setMaxTweets(500)\n",
    "\n",
    "tweet = got.manager.TweetManager.getTweets(tweetCriteria)[0:500]\n",
    "text=tweet\n",
    "tweetCriteria3 = got.manager.TweetCriteria().setQuerySearch('سعوديات_نطالب_باسقاط_الولاية1113')\\\n",
    "                                           .setSince(\"2016-01-01\")\\\n",
    "                                           .setUntil(\"2019-01-01\")\\\n",
    "                                           .setMaxTweets(500)\n",
    "\n",
    "tweet3 = got.manager.TweetManager.getTweets(tweetCriteria3)[0:500]\n",
    "text3=tweet3\n",
    "\n",
    "\n",
    "\n",
    "\n",
    "tweet2 = got.manager.TweetManager.getTweets(tweetCriteria2)[0:500]\n",
    "text2=tweet2\n",
    "print(len(text))\n",
    "f= open(\"tweets.txt\",\"w+\", encoding=\"utf-8\")\n",
    "for i in text:\n",
    "    f.write(f'{i.text}\\n')\n",
    "for i in text2:\n",
    "    f.write(f'{i.text}\\n')\n",
    "    \n",
    "    \n",
    "f.close()\n",
    "# إسقاط"
   ]
  },
  {
   "cell_type": "code",
   "execution_count": null,
   "metadata": {},
   "outputs": [],
   "source": []
  }
 ],
 "metadata": {
  "kernelspec": {
   "display_name": "Python 3",
   "language": "python",
   "name": "python3"
  },
  "language_info": {
   "codemirror_mode": {
    "name": "ipython",
    "version": 3
   },
   "file_extension": ".py",
   "mimetype": "text/x-python",
   "name": "python",
   "nbconvert_exporter": "python",
   "pygments_lexer": "ipython3",
   "version": "3.7.4"
  }
 },
 "nbformat": 4,
 "nbformat_minor": 4
}

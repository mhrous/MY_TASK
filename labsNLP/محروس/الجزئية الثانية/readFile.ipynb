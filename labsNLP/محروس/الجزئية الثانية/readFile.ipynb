{
 "cells": [
  {
   "cell_type": "code",
   "execution_count": 1,
   "metadata": {},
   "outputs": [],
   "source": [
    "import os\n",
    "import pandas as pd "
   ]
  },
  {
   "cell_type": "markdown",
   "metadata": {},
   "source": [
    "# اعادة مصفوفة باسماء الملفات ضمن مجلد"
   ]
  },
  {
   "cell_type": "code",
   "execution_count": 2,
   "metadata": {},
   "outputs": [],
   "source": [
    "def get_file_paths(directory):\n",
    "    file_paths = []\n",
    "\n",
    "    for root, directories, files in os.walk(directory):\n",
    "        for filename in files:\n",
    "            filepath = os.path.join(root, filename)\n",
    "            file_paths.append(filepath)\n",
    "    return file_paths"
   ]
  },
  {
   "cell_type": "markdown",
   "metadata": {},
   "source": [
    "# كتابة الملفات الى ملف csv بعدازالة الفراغات "
   ]
  },
  {
   "cell_type": "code",
   "execution_count": 3,
   "metadata": {},
   "outputs": [],
   "source": [
    "def file_to_csv(dir_name,csv_name):\n",
    "    file_list = get_file_paths(dir_name)\n",
    "    data=[]\n",
    "    for index,file in enumerate(file_list):   \n",
    "        with open(file,mode=\"r\") as f:\n",
    "            lines = f.readlines()\n",
    "    \n",
    "            for l in lines:\n",
    "                array=l.split(\"||\")\n",
    "            \n",
    "                if(len(array)==2):\n",
    "                    if(array[1].strip().upper().find(\"NEG\")!=-1 or  array[1].strip().upper().find(\"POS\")!=-1):\n",
    "                        is_pos = \"POS\" if  (array[1].strip().upper().find(\"POS\")!=-1)  else \"NEG\"\n",
    "                        data.append([array[0].strip(),is_pos])\n",
    "                        \n",
    "                elif(len(array)==1):\n",
    "                    array2=array[0].split(\"|\")\n",
    "                    if(len(array2)==2):\n",
    "                        if(array2[1].strip().upper().find(\"NEG\")!=-1 or  array2[1].strip().upper().find(\"POS\")!=-1):\n",
    "                            is_pos = \"POS\" if  (array2[1].strip().upper().find(\"POS\")!=-1)  else \"NEG\"\n",
    "                            data.append([array2[0].strip(),is_pos])\n",
    "                        \n",
    "                \n",
    "    df = pd.DataFrame(data, columns = ['tweet', 'label'])\n",
    "\n",
    "    df.drop_duplicates(subset =\"tweet\",  inplace = True) \n",
    "    df.to_csv(csv_name,  encoding='utf-8' ,sep=\"\\t\",index=False)    "
   ]
  },
  {
   "cell_type": "code",
   "execution_count": 4,
   "metadata": {},
   "outputs": [],
   "source": [
    "file_to_csv(\"Training Data\", \"train.csv\")\n",
    "file_to_csv(\"Testing Data\", \"test.csv\")\n",
    "\n"
   ]
  },
  {
   "cell_type": "markdown",
   "metadata": {},
   "source": [
    "# حذف الملفات المكررة والملفات المشتركة بين الترين والتيست من قائمة الترين"
   ]
  },
  {
   "cell_type": "code",
   "execution_count": 5,
   "metadata": {},
   "outputs": [],
   "source": [
    "def remove_duplicate_between_train_and_test():\n",
    "    df_train = pd.read_csv(\"train.csv\", encoding='utf-8',sep=\"\\t\")\n",
    "    df_test = pd.read_csv(\"test.csv\", encoding='utf-8',sep=\"\\t\")\n",
    "    df = pd.concat([df_train, df_test, df_test]).drop_duplicates(subset=\"tweet\", keep=False, inplace=True)\n",
    "    df_train.to_csv(\"train_without_any_of_test.csv\", columns=[\"tweet\", \"label\"], encoding='utf-8',sep=\"\\t\",index=False)\n",
    "\n",
    "\n",
    "# print(df)"
   ]
  },
  {
   "cell_type": "code",
   "execution_count": 6,
   "metadata": {},
   "outputs": [],
   "source": [
    "remove_duplicate_between_train_and_test()"
   ]
  },
  {
   "cell_type": "code",
   "execution_count": null,
   "metadata": {},
   "outputs": [],
   "source": []
  },
  {
   "cell_type": "code",
   "execution_count": null,
   "metadata": {},
   "outputs": [],
   "source": []
  },
  {
   "cell_type": "code",
   "execution_count": null,
   "metadata": {},
   "outputs": [],
   "source": []
  },
  {
   "cell_type": "code",
   "execution_count": null,
   "metadata": {},
   "outputs": [],
   "source": []
  },
  {
   "cell_type": "code",
   "execution_count": null,
   "metadata": {},
   "outputs": [],
   "source": []
  },
  {
   "cell_type": "code",
   "execution_count": null,
   "metadata": {},
   "outputs": [],
   "source": []
  },
  {
   "cell_type": "code",
   "execution_count": null,
   "metadata": {},
   "outputs": [],
   "source": []
  },
  {
   "cell_type": "code",
   "execution_count": null,
   "metadata": {},
   "outputs": [],
   "source": []
  },
  {
   "cell_type": "code",
   "execution_count": null,
   "metadata": {},
   "outputs": [],
   "source": []
  }
 ],
 "metadata": {
  "kernelspec": {
   "display_name": "Python 3",
   "language": "python",
   "name": "python3"
  },
  "language_info": {
   "codemirror_mode": {
    "name": "ipython",
    "version": 3
   },
   "file_extension": ".py",
   "mimetype": "text/x-python",
   "name": "python",
   "nbconvert_exporter": "python",
   "pygments_lexer": "ipython3",
   "version": "3.7.4"
  }
 },
 "nbformat": 4,
 "nbformat_minor": 4
}
